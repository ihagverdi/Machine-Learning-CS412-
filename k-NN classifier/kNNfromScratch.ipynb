{
  "nbformat": 4,
  "nbformat_minor": 0,
  "metadata": {
    "colab": {
      "provenance": []
    },
    "kernelspec": {
      "name": "python3",
      "display_name": "Python 3"
    },
    "language_info": {
      "name": "python"
    }
  },
  "cells": [
    {
      "cell_type": "markdown",
      "source": [
        "Implementing the k-NN (K Nearest Neigbors) from scratch"
      ],
      "metadata": {
        "id": "GgiuSgXr_g6N"
      }
    },
    {
      "cell_type": "code",
      "source": [
        "import numpy as np\n",
        "from collections import Counter\n",
        "def euclidean(x1, x2):\n",
        "    distance =np.sqrt(np.sum((x1-x2)**2))\n",
        "    return distance\n",
        "\n",
        "class kNN:\n",
        "    def __init__(self,k):\n",
        "        self.k = k\n",
        "\n",
        "    def fit(self,X,Y):\n",
        "        self.X_train = X\n",
        "        self.Y_train = Y\n",
        "    def predict(self,X):\n",
        "        predicted_labels = [self._predict(x) for x in X]\n",
        "        return predicted_labels\n",
        "\n",
        "    def _predict(self,x):\n",
        "        distance = [euclidean(myX,x) for myX in self.X_train]\n",
        "        k_indices = np.argsort(distance)[:self.k]\n",
        "        predictions = [self.Y_train[i] for i in k_indices]\n",
        "        return Counter(predictions).most_common(1)[0][0]\n",
        "  \n",
        "  "
      ],
      "metadata": {
        "id": "6X8pihZ2xQ-k"
      },
      "execution_count": 32,
      "outputs": []
    },
    {
      "cell_type": "code",
      "source": [
        "from sklearn import datasets\n",
        "from sklearn.model_selection import train_test_split\n",
        "data = datasets.load_iris()\n",
        "X, Y = data.data, data.target\n",
        "\n",
        "X_train, X_test, Y_train, Y_test = train_test_split(X,Y,train_size=0.8,random_state=1234)\n",
        "\n",
        "knn = kNN(5)\n",
        "knn.fit(X_train,Y_train)\n",
        "y_pred = knn.predict(X_test)\n",
        "accuracy_score = np.sum(y_pred == Y_test)/len(y_pred)\n",
        "print(accuracy_score)"
      ],
      "metadata": {
        "colab": {
          "base_uri": "https://localhost:8080/"
        },
        "id": "VlF41DN-9SuJ",
        "outputId": "1511ce1d-7ab3-4180-8ba8-2990dc54cb12"
      },
      "execution_count": 33,
      "outputs": [
        {
          "output_type": "stream",
          "name": "stdout",
          "text": [
            "0.9666666666666667\n"
          ]
        }
      ]
    }
  ]
}