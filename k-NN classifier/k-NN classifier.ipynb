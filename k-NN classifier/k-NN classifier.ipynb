{
  "nbformat": 4,
  "nbformat_minor": 0,
  "metadata": {
    "colab": {
      "provenance": []
    },
    "kernelspec": {
      "name": "python3",
      "display_name": "Python 3"
    },
    "gpuClass": "standard"
  },
  "cells": [
    {
      "cell_type": "markdown",
      "metadata": {
        "id": "voHKcAfRfdNY"
      },
      "source": [
        "# CS412 - Machine Learning - 2023\n",
        "## Homework 1\n",
        "100 pts\n",
        "\n",
        "## Software: \n",
        "\n",
        "You may find the necessary function references here: \n",
        "\n",
        "http://scikit-learn.org/stable/supervised_learning.html\n",
        "\n",
        "When you search for KNeighborsClassifier for instance, you should find the relevant function and explained parameters, easily.\n",
        "\n",
        "## Submission: \n",
        "Fill this notebook. Write the report section at the end, removing the part in italics. \n",
        "\n",
        "You should prepare a separate pdf document as your homework (name HW1-CS412-yourname.pdf) which consists of the report (Part 8) of the notebook for easy viewing -and- include a link to your notebook from within the pdf report (make sure to include the link obtained from the **Share** button on top right)."
      ]
    },
    {
      "cell_type": "markdown",
      "metadata": {
        "id": "_YOYiWvHbNDW"
      },
      "source": [
        "##1) Initialize\n",
        "\n",
        "*   First make a copy of the notebook given to you as a starter.\n",
        "\n",
        "*   Make sure you click the Connect button from upper right.\n"
      ]
    },
    {
      "cell_type": "code",
      "source": [
        "import random\n",
        "import numpy as np\n",
        "\n",
        "random.seed(412)\n",
        "np.random.seed(412)"
      ],
      "metadata": {
        "id": "UIjLyYzJvant"
      },
      "execution_count": null,
      "outputs": []
    },
    {
      "cell_type": "markdown",
      "metadata": {
        "id": "MM-wwHR8qL0M"
      },
      "source": [
        "## 2) Load training dataset\n",
        "\n",
        "*  Read MNIST dataset from Keras library.\n",
        "\n"
      ]
    },
    {
      "cell_type": "code",
      "metadata": {
        "id": "vsX8gEbCUqPr",
        "colab": {
          "base_uri": "https://localhost:8080/"
        },
        "outputId": "4a9597ec-d5cf-41c0-c299-e49e209b9e1e"
      },
      "source": [
        "from keras.datasets import mnist\n",
        "(X_train, Y_train), (X_test, y_test) = mnist.load_data()"
      ],
      "execution_count": null,
      "outputs": [
        {
          "output_type": "stream",
          "name": "stdout",
          "text": [
            "Downloading data from https://storage.googleapis.com/tensorflow/tf-keras-datasets/mnist.npz\n",
            "11490434/11490434 [==============================] - 0s 0us/step\n"
          ]
        }
      ]
    },
    {
      "cell_type": "markdown",
      "source": [
        "##3) Reshape the MNIST data\n",
        "\n",
        "  In order to use images as input data for the sklearn k-NN classifier, the 2D image arrays need to be reshaped into a 1D arrays (in other words, a feature vector)."
      ],
      "metadata": {
        "id": "jykF6CFioiSw"
      }
    },
    {
      "cell_type": "code",
      "source": [
        "print('Before reshaping: ', X_train.shape, X_test.shape)\n",
        "# print(X_train)"
      ],
      "metadata": {
        "id": "LAX4AsLWrGam",
        "colab": {
          "base_uri": "https://localhost:8080/"
        },
        "outputId": "f5e9ed02-0117-4684-e599-10f99ca63d91"
      },
      "execution_count": null,
      "outputs": [
        {
          "output_type": "stream",
          "name": "stdout",
          "text": [
            "Before reshaping:  (60000, 28, 28) (10000, 28, 28)\n"
          ]
        }
      ]
    },
    {
      "cell_type": "code",
      "source": [
        "N_train, height, width = X_train.shape\n",
        "\n",
        "X_train = np.reshape(X_train, (N_train, height*width)) # from array of shape N_train x 28 x 28 ---> N_train x 784 (Note: 28*28 = 784)\n",
        "X_test = np.reshape(X_test, (len(X_test), height*width)) # from array of shape N_test x 28 x 28 ---> N_test x 784 \n"
      ],
      "metadata": {
        "id": "SEqkxBe5ohf1"
      },
      "execution_count": null,
      "outputs": []
    },
    {
      "cell_type": "code",
      "source": [
        "print('After reshaping: ', X_train.shape, X_test.shape)"
      ],
      "metadata": {
        "id": "Zob6_DCBqSHI",
        "colab": {
          "base_uri": "https://localhost:8080/"
        },
        "outputId": "7c09633d-796e-4b1f-f5dc-affbefa7d440"
      },
      "execution_count": null,
      "outputs": [
        {
          "output_type": "stream",
          "name": "stdout",
          "text": [
            "After reshaping:  (60000, 784) (10000, 784)\n"
          ]
        }
      ]
    },
    {
      "cell_type": "markdown",
      "metadata": {
        "id": "Vop4rwZVxh9Z"
      },
      "source": [
        "##4) Shuffle and Split TRAINING data as train (also called development) (80%) and validation (20%) "
      ]
    },
    {
      "cell_type": "code",
      "metadata": {
        "id": "KEhk8R24xhdY",
        "colab": {
          "base_uri": "https://localhost:8080/"
        },
        "outputId": "6883db19-97cc-4021-b62f-0525ebfc235c"
      },
      "source": [
        "from sklearn.utils import shuffle\n",
        "from sklearn.model_selection import train_test_split\n",
        "# Shuffle the training data\n",
        "X_train, Y_train = shuffle(X_train,Y_train,random_state=99)\n",
        "# Split %80 train - 20% val\n",
        "X_development, X_validation, Y_development, Y_validation = train_test_split(X_train,Y_train,test_size=0.2,train_size=0.8,shuffle=False)\n",
        "print(f\"Development data size: {len(X_development)}\\nValidation data size: {len(X_validation)}\\nDevelopment label data size: {len(Y_development)}\\nValidation label data size: {len(Y_validation)}\")"
      ],
      "execution_count": null,
      "outputs": [
        {
          "output_type": "stream",
          "name": "stdout",
          "text": [
            "Development data size: 48000\n",
            "Validation data size: 12000\n",
            "Development label data size: 48000\n",
            "Validation label data size: 12000\n"
          ]
        }
      ]
    },
    {
      "cell_type": "markdown",
      "metadata": {
        "id": "xR1oMsPu0AV_"
      },
      "source": [
        "##5) Train k-NN  classifier on development data and do model selection using the validation data\n",
        "\n",
        "\n",
        "* Train a k-NN classifier (use the values specified in the homework PDF file, do not try other values) with the rest of the parameters set to default. \n",
        "\n",
        "* The aim in this homework is not necessarily obtaining the best performance, but to establish the ML pipeline (train a few models, select based on validation set, test, report).\n"
      ]
    },
    {
      "cell_type": "code",
      "metadata": {
        "id": "Nv6oac-T3Wy5",
        "colab": {
          "base_uri": "https://localhost:8080/"
        },
        "outputId": "186599d3-8d7f-4348-cdcf-b90413080efc"
      },
      "source": [
        "from sklearn.neighbors import KNeighborsClassifier\n",
        "from sklearn.metrics import accuracy_score\n",
        "k_values = [1,3,5,7,9,11,13]   # <--- Fill the list with the values for n_neighbors\n",
        "\n",
        "best_acc = -1 \n",
        "best_k = None\n",
        "val_accs = []\n",
        "for k in k_values:\n",
        "  # 1) initialize a k-NN classifier with n_neighbors parameter set to k\n",
        "  kNN = KNeighborsClassifier(n_neighbors=k)\n",
        "  # 2) train the classifier using training set\n",
        "  kNN.fit(X_development,Y_development)\n",
        "  # 3) get the predictions of the classifier on the validation set\n",
        "  y_pred = kNN.predict(X_validation) \n",
        "  # 4) compute the accuracy of the predictions on the validation set and append it to val_accs list\n",
        "  score = accuracy_score(y_true=Y_validation,y_pred=y_pred)\n",
        "  val_accs.append(score)\n",
        "  if best_k == None or score>best_acc:\n",
        "    best_k = k\n",
        "    best_acc = score\n",
        "    \n",
        "  print('Validation accuracy for k=', k, ' :', score)\n",
        "  # if validation accuracy is better than best_acc, update best_acc and best_k\n",
        "print('Best validation accuracy (', max(val_accs), ') is achieved with k =', best_k)"
      ],
      "execution_count": null,
      "outputs": [
        {
          "output_type": "stream",
          "name": "stdout",
          "text": [
            "Validation accuracy for k= 1  : 0.97325\n",
            "Validation accuracy for k= 3  : 0.9735\n",
            "Validation accuracy for k= 5  : 0.9713333333333334\n",
            "Validation accuracy for k= 7  : 0.9691666666666666\n",
            "Validation accuracy for k= 9  : 0.9673333333333334\n",
            "Validation accuracy for k= 11  : 0.9670833333333333\n",
            "Validation accuracy for k= 13  : 0.9650833333333333\n",
            "Best validation accuracy ( 0.9735 ) is achieved with k = 3\n"
          ]
        }
      ]
    },
    {
      "cell_type": "markdown",
      "source": [
        "## 6) Plot the obtained validation accuracies versus k values "
      ],
      "metadata": {
        "id": "DQ-0AmI3eqVL"
      }
    },
    {
      "cell_type": "code",
      "source": [
        "import matplotlib.pyplot as plt\n",
        "\n",
        "plt.plot(k_values, val_accs)\n",
        "plt.xticks(k_values)\n",
        "plt.xlabel('k')\n",
        "plt.ylabel('Validation Accuracy')\n",
        "plt.show()"
      ],
      "metadata": {
        "id": "L4P-dYSoeo3y",
        "colab": {
          "base_uri": "https://localhost:8080/",
          "height": 279
        },
        "outputId": "d7af39f1-f977-469f-ee5a-0e92ec37049f"
      },
      "execution_count": null,
      "outputs": [
        {
          "output_type": "display_data",
          "data": {
            "text/plain": [
              "<Figure size 432x288 with 1 Axes>"
            ],
            "image/png": "[encoded data removed]"
          },
          "metadata": {
            "needs_background": "light"
          }
        }
      ]
    },
    {
      "cell_type": "markdown",
      "metadata": {
        "id": "boqe46St1--f"
      },
      "source": [
        "## 7) Test your classifier on test set\n",
        "\n",
        "- Now that you have the best value for the ***n_neighbors*** parameter, train a model **with best parameters that you have found according to your validation results**. But now, train the model by combining the training and validation sets. Then report the accuracy on the test set. "
      ]
    },
    {
      "cell_type": "code",
      "metadata": {
        "id": "IPLke8jyFGng",
        "colab": {
          "base_uri": "https://localhost:8080/"
        },
        "outputId": "4f5c4be1-d8c9-4fba-e45e-7b41fe92d0e4"
      },
      "source": [
        "# 1) initialize a k-NN classifier with n_neighbors parameter set to best_k\n",
        "KNN = KNeighborsClassifier(n_neighbors= best_k)\n",
        "# 2) combine the training and validation sets (you may want to look up numpy.concatenate function for this)\n",
        "x_train = np.concatenate((X_development, X_validation))\n",
        "y_train = np.concatenate((Y_development, Y_validation))\n",
        "# 3) train the classifier using this set\n",
        "KNN.fit(x_train,y_train)\n",
        "# 4) get the predictions of the classifier on the test set\n",
        "KNN_pred = KNN.predict(X_test)  \n",
        "# 5) compute the accuracy of the predictions on the test set\n",
        "KNN_accuracy = accuracy_score(y_true=y_test,y_pred=KNN_pred)\n",
        "print('Test accuracy for k =', best_k, ' :', KNN_accuracy)\n",
        "\n",
        "\n",
        "# Report your result"
      ],
      "execution_count": null,
      "outputs": [
        {
          "output_type": "stream",
          "name": "stdout",
          "text": [
            "Test accuracy for k = 3  : 0.9705\n"
          ]
        }
      ]
    },
    {
      "cell_type": "markdown",
      "metadata": {
        "id": "WG3473I9dGE8"
      },
      "source": [
        "##8) Report your results\n",
        "\n",
        "**Notebook should be RUN:** As training and testing may take a long time, we may just look at your notebook results; so make sure **each cell is run**, so outputs are there.\n",
        "\n",
        "**Report:** Write an **one page summary** of your approach to this problem **below**; this should be like an abstract of a paper or the executive summary (you aim for clarity and passing on information, not going to details about known facts such as what kNN is or what MNIST is, assuming they are known to people in your research area). \n",
        "\n",
        "The aim of this report is to explain the steps taken to solve the first assignment of the Machine Learning course. The problem definiton is to implement a machine learning model which can predict (preferably with low error rate) a given sample from the MNIST dataset. For this purpose, we are going to train a k-NN classifier and optimize its performance by finding an optimal value for the nearest neighbors (I.e. k) parameter with the help of Scikit-learn library. First of all, MNIST dataset provides us with 60,000 training data and 10,000 test data. To find the optimal nearest neighbors parameter, we should split the training data into two portions: development data and validation data, with respective portions of 80% and 20%. It is noteworthy to mention that, we shuffle the training data beforehand splitting it to prevent our model to be biased towards any specific patterns or sequences in the data. Next, we train models  on the development data with different values for the nearest neighbors parameter from the list: [1, 3, 5, 7, 9, 11, 13]. Then we measure each of their performance on the validation data so to choose the one with the highest accuracy. Below is the table attached depicting the accuracy rate of models trained with different values for the nearest neighbors parameter from the list aforementioned.\n",
        "Nearest Neighbors parameter (K)\tAccuracy of the model on the validation dataset (percentage)\n",
        "1 -> 0.97325\n",
        "**3\t-> 0.9735**\n",
        "5\t-> 0.9713\n",
        "7\t-> 0.9691\n",
        "9\t-> 0.9673\n",
        "11 -> 0.967\n",
        "13 -> 0.965\n",
        "As highlighted on the table, the nearest neighbors parameter with the value of 3 showed the highest performance on the validation dataset with the accuracy of 97.35%. For this reason, we select the value 3 for the nearest neighbors parameter and train our new model on the full training dataset (i.e. development and validation data combined) which gives us the accuracy of 97.05% on the test data.\n",
        "#Hagverdi Ibrahimli\n",
        "#00030014\n"
      ]
    }
  ]
}